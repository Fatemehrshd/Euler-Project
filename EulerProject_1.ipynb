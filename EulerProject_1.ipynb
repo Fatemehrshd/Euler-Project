{
  "nbformat": 4,
  "nbformat_minor": 0,
  "metadata": {
    "colab": {
      "provenance": [],
      "authorship_tag": "ABX9TyMH/CSmQ/jAmu4+3GAfV34H",
      "include_colab_link": true
    },
    "kernelspec": {
      "name": "python3",
      "display_name": "Python 3"
    },
    "language_info": {
      "name": "python"
    }
  },
  "cells": [
    {
      "cell_type": "markdown",
      "metadata": {
        "id": "view-in-github",
        "colab_type": "text"
      },
      "source": [
        "<a href=\"https://colab.research.google.com/github/Fatemehrshd/Euler-Project/blob/main/EulerProject_1.ipynb\" target=\"_parent\"><img src=\"https://colab.research.google.com/assets/colab-badge.svg\" alt=\"Open In Colab\"/></a>"
      ]
    },
    {
      "cell_type": "code",
      "execution_count": null,
      "metadata": {
        "colab": {
          "base_uri": "https://localhost:8080/"
        },
        "id": "CqkjuA_-BPIH",
        "outputId": "b33c2341-e0a1-4e59-db7b-8b39da9c675c"
      },
      "outputs": [
        {
          "output_type": "stream",
          "name": "stdout",
          "text": [
            "233168\n"
          ]
        }
      ],
      "source": [
        "def multiples_of_3_or_5(a):\n",
        "  sum = 0\n",
        "  for num in range(a):\n",
        "    if num % 3 == 0 or num % 5 == 0:\n",
        "      sum += num\n",
        "  return sum\n",
        "\n",
        "n = 1000\n",
        "print(multiples_of_3_or_5(n))"
      ]
    },
    {
      "cell_type": "code",
      "source": [],
      "metadata": {
        "id": "CX6aHOhPBuYh"
      },
      "execution_count": null,
      "outputs": []
    }
  ]
}