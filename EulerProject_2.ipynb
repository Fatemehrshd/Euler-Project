{
  "nbformat": 4,
  "nbformat_minor": 0,
  "metadata": {
    "colab": {
      "provenance": [],
      "authorship_tag": "ABX9TyNpvm8UFC5aiXycv1hUmsF8",
      "include_colab_link": true
    },
    "kernelspec": {
      "name": "python3",
      "display_name": "Python 3"
    },
    "language_info": {
      "name": "python"
    }
  },
  "cells": [
    {
      "cell_type": "markdown",
      "metadata": {
        "id": "view-in-github",
        "colab_type": "text"
      },
      "source": [
        "<a href=\"https://colab.research.google.com/github/Fatemehrshd/Euler-Project/blob/main/EulerProject_2.ipynb\" target=\"_parent\"><img src=\"https://colab.research.google.com/assets/colab-badge.svg\" alt=\"Open In Colab\"/></a>"
      ]
    },
    {
      "cell_type": "code",
      "execution_count": 1,
      "metadata": {
        "colab": {
          "base_uri": "https://localhost:8080/"
        },
        "id": "79sZ8shNCweA",
        "outputId": "9e13eef1-dec3-414a-97c4-c61b736d8387"
      },
      "outputs": [
        {
          "output_type": "stream",
          "name": "stdout",
          "text": [
            "4613732\n"
          ]
        }
      ],
      "source": [
        "def fibb():\n",
        "  first = 1\n",
        "  second = 2\n",
        "  current = 3\n",
        "  sum = 2\n",
        "  while current < 4 * 10**6:\n",
        "    first = second\n",
        "    second = current\n",
        "    current = first + second\n",
        "    if current % 2 == 0:\n",
        "      sum += current\n",
        "  return sum\n",
        "\n",
        "print(fibb())"
      ]
    },
    {
      "cell_type": "code",
      "source": [],
      "metadata": {
        "id": "jk2ckAIPDSAj"
      },
      "execution_count": null,
      "outputs": []
    }
  ]
}