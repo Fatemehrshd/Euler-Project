{
  "nbformat": 4,
  "nbformat_minor": 0,
  "metadata": {
    "colab": {
      "provenance": [],
      "authorship_tag": "ABX9TyNVUnTbDMgqu/WD+Z0oAUNN",
      "include_colab_link": true
    },
    "kernelspec": {
      "name": "python3",
      "display_name": "Python 3"
    },
    "language_info": {
      "name": "python"
    }
  },
  "cells": [
    {
      "cell_type": "markdown",
      "metadata": {
        "id": "view-in-github",
        "colab_type": "text"
      },
      "source": [
        "<a href=\"https://colab.research.google.com/github/Fatemehrshd/Euler-Project/blob/main/EulerProject_3.ipynb\" target=\"_parent\"><img src=\"https://colab.research.google.com/assets/colab-badge.svg\" alt=\"Open In Colab\"/></a>"
      ]
    },
    {
      "cell_type": "code",
      "execution_count": 4,
      "metadata": {
        "colab": {
          "base_uri": "https://localhost:8080/"
        },
        "id": "vOhulWvhD1KF",
        "outputId": "56e78161-7557-496b-8b00-cb9f1d414c44"
      },
      "outputs": [
        {
          "output_type": "stream",
          "name": "stdout",
          "text": [
            "6857\n"
          ]
        }
      ],
      "source": [
        "import math\n",
        "\n",
        "def is_prime(a):\n",
        "  for num in range(2, int(math.sqrt(a)) + 1):\n",
        "    if (a % num == 0):\n",
        "      return False\n",
        "  return True\n",
        "\n",
        "def largest_prime_factor(a):\n",
        "  max_fact = 1\n",
        "  for num in range(2, int(math.sqrt(a)) + 1):\n",
        "    if (a % num == 0):\n",
        "      if is_prime(num):\n",
        "        max_fact = num\n",
        "  return max_fact\n",
        "\n",
        "print(largest_prime_factor(600851475143))"
      ]
    },
    {
      "cell_type": "code",
      "source": [],
      "metadata": {
        "id": "IS8MnWpnEwWX"
      },
      "execution_count": null,
      "outputs": []
    }
  ]
}