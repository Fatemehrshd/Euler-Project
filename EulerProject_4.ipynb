{
  "nbformat": 4,
  "nbformat_minor": 0,
  "metadata": {
    "colab": {
      "provenance": [],
      "authorship_tag": "ABX9TyNGWavp1J3iQrsGl5lkb4SN",
      "include_colab_link": true
    },
    "kernelspec": {
      "name": "python3",
      "display_name": "Python 3"
    },
    "language_info": {
      "name": "python"
    }
  },
  "cells": [
    {
      "cell_type": "markdown",
      "metadata": {
        "id": "view-in-github",
        "colab_type": "text"
      },
      "source": [
        "<a href=\"https://colab.research.google.com/github/Fatemehrshd/Euler-Project/blob/main/EulerProject_4.ipynb\" target=\"_parent\"><img src=\"https://colab.research.google.com/assets/colab-badge.svg\" alt=\"Open In Colab\"/></a>"
      ]
    },
    {
      "cell_type": "code",
      "execution_count": 25,
      "metadata": {
        "colab": {
          "base_uri": "https://localhost:8080/"
        },
        "id": "YbVL1WFSFjY5",
        "outputId": "8d251cdf-a40f-4437-c8b3-955598700d20"
      },
      "outputs": [
        {
          "output_type": "stream",
          "name": "stdout",
          "text": [
            "906609\n"
          ]
        }
      ],
      "source": [
        "def is_pal(a):\n",
        "  b = 0\n",
        "  c = a\n",
        "  while a // 10 != 0:\n",
        "    b = b * 10 + a % 10\n",
        "    a //= 10\n",
        "    if a // 10 == 0:\n",
        "      b = b * 10 + a\n",
        "  if b == c:\n",
        "    return True\n",
        "  return False\n",
        "\n",
        "def largest_pal_num():\n",
        "  res = 0\n",
        "  for i in range(999, 99, -1):\n",
        "    for j in range(999, 99, -1):\n",
        "      k = i * j\n",
        "      if is_pal(k):\n",
        "        if k > res:\n",
        "          res = k\n",
        "  return res\n",
        "\n",
        "print(check())"
      ]
    }
  ]
}